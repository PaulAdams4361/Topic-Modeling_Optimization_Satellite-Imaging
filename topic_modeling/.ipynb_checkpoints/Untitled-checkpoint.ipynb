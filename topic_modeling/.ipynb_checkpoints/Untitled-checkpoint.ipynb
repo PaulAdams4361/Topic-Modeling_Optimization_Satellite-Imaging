{
 "cells": [
  {
   "cell_type": "code",
   "execution_count": 1,
   "id": "french-stopping",
   "metadata": {},
   "outputs": [],
   "source": [
    "import sys\n",
    "from pyspark.sql import SparkSession\n",
    "from pyspark.sql.functions import count"
   ]
  },
  {
   "cell_type": "code",
   "execution_count": null,
   "id": "dedicated-growing",
   "metadata": {},
   "outputs": [],
   "source": [
    "if __name__==\"__main__\": # similar to \"public static void main\" in Java\n",
    "    if len(sys.argv) != 2: # similar to (String arg[])\" in Java; this checks the program's argument volume (only one should exist)\n",
    "        print(\"Usage: mnmcount <file>\", file=sys.stderr)\n",
    "        sys.exit(-1)\n",
    "    \n",
    "    spark = (SparkSession\n",
    "    .builder\n",
    "    .appName(\"PythonMnMCount\")\n",
    "    .getOrCreate())\n",
    "\n",
    "    mnm_file = sys.argv[1] # this runs the program's argument (above, it's checked that only one program execution command/invokation exists)\n",
    "\n",
    "    mnm_df = (spark.read.format(\"csv\")\n",
    "    .option(\"header\",\"true\")\n",
    "    .option(\"inferSchema\", \"true\")\n",
    "    .load(mnm_file))\n",
    "\n",
    "    count_mnm_df = (mnm_df\n",
    "    .select(\"State\", \"Color\", \"Count\")\n",
    "    .groupBy(\"State\", \"Color\")\n",
    "    .agg(count(\"Count\").alias(\"Total\")\n",
    "    .orderBy(\"Total\", ascending=False)))\n",
    "\n",
    "    count_mnm_df.show(n=60, truncate=False)\n",
    "    print(\"Total Rows = %d\"%(count_mnm_df.count))\n",
    "\n",
    "    ca_count_mnm_df = (mnm_df\n",
    "    .select(\"State\",\"Color\",\"Count\")\n",
    "    .where(mnm_df.State==\"CA\")\n",
    "    .groupBy(\"State\", \"Color\")\n",
    "    .agg(count(\"Count\").alias(\"Total\"))\n",
    "    .orderBy(\"Total\", ascending=False))\n",
    "\n",
    "    ca_count_mnm_df.show(n=10, truncate=False)\n",
    "    spark.stop()"
   ]
  },
  {
   "cell_type": "code",
   "execution_count": null,
   "id": "specialized-facility",
   "metadata": {},
   "outputs": [],
   "source": []
  }
 ],
 "metadata": {
  "kernelspec": {
   "display_name": "Python 3",
   "language": "python",
   "name": "python3"
  },
  "language_info": {
   "codemirror_mode": {
    "name": "ipython",
    "version": 3
   },
   "file_extension": ".py",
   "mimetype": "text/x-python",
   "name": "python",
   "nbconvert_exporter": "python",
   "pygments_lexer": "ipython3",
   "version": "3.7.7"
  }
 },
 "nbformat": 4,
 "nbformat_minor": 5
}
